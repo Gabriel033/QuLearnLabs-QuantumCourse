{
 "cells": [
  {
   "cell_type": "markdown",
   "id": "d4bc6e92-7c84-4bce-a720-561c8b5a6269",
   "metadata": {},
   "source": [
    "# Exercise 6.01 For the 2 qubit entanglement generation circuit what is the equivalent gate matrix?"
   ]
  },
  {
   "cell_type": "code",
   "execution_count": 1,
   "id": "3bf77727-7bdb-4284-b039-3499535395b4",
   "metadata": {},
   "outputs": [
    {
     "data": {
      "image/png": "[encoded data removed]",
      "text/plain": [
       "<Figure size 287.294x200.667 with 1 Axes>"
      ]
     },
     "execution_count": 1,
     "metadata": {},
     "output_type": "execute_result"
    }
   ],
   "source": [
    "from qiskit import QuantumCircuit\n",
    "qc = QuantumCircuit(2)\n",
    "qc.h(0)\n",
    "qc.cx(0, 1)\n",
    "qc.draw('mpl')\n"
   ]
  },
  {
   "cell_type": "code",
   "execution_count": 2,
   "id": "cadc51d6-df6c-4694-ae79-d1daa87c96db",
   "metadata": {},
   "outputs": [
    {
     "data": {
      "text/latex": [
       "$\\displaystyle \\frac{1}{\\sqrt{2}}\\left[\\begin{matrix}1 & 0 & 1 & 0\\\\0 & 1 & 0 & 1\\\\0 & 1 & 0 & -1\\\\1 & 0 & -1 & 0\\end{matrix}\\right]$"
      ],
      "text/plain": [
       "<IPython.core.display.Math object>"
      ]
     },
     "metadata": {},
     "output_type": "display_data"
    }
   ],
   "source": [
    "from qiskit import QuantumCircuit\n",
    "from qiskit.quantum_info import Operator\n",
    "import numpy as np\n",
    "import sympy as sp\n",
    "from sympy import Matrix, latex\n",
    "from IPython.display import display, Math\n",
    "\n",
    "# 1. Build the circuit (Hadamard + CNOT)\n",
    "qc = QuantumCircuit(2)\n",
    "qc.h(0)\n",
    "qc.cx(0, 1)\n",
    "\n",
    "# 2. Get unitary matrix in correct qubit order\n",
    "U = Operator(qc.reverse_bits()).data\n",
    "\n",
    "# 3. Define symbolic threshold\n",
    "sqrt2_inv = 1 / sp.sqrt(2)\n",
    "tol = 1e-6\n",
    "\n",
    "# 4. Convert to symbolic matrix\n",
    "U_symbolic = []\n",
    "for row in U:\n",
    "    symbolic_row = []\n",
    "    for elem in row:\n",
    "        r = np.real(elem)\n",
    "        if abs(r - 1/np.sqrt(2)) < tol:\n",
    "            symbolic_row.append(sqrt2_inv)\n",
    "        elif abs(r + 1/np.sqrt(2)) < tol:\n",
    "            symbolic_row.append(-sqrt2_inv)\n",
    "        elif abs(r - 1) < tol:\n",
    "            symbolic_row.append(1)\n",
    "        elif abs(r + 1) < tol:\n",
    "            symbolic_row.append(-1)\n",
    "        elif abs(r) < tol:\n",
    "            symbolic_row.append(0)\n",
    "        else:\n",
    "            symbolic_row.append(sp.nsimplify(r, rational=True))\n",
    "    U_symbolic.append(symbolic_row)\n",
    "\n",
    "# 5. Display in LaTeX\n",
    "U_matrix = Matrix(U_symbolic)\n",
    "latex_expr = r\"\\frac{1}{\\sqrt{2}}\" + sp.latex(U_matrix / sqrt2_inv)\n",
    "display(Math(latex_expr))\n"
   ]
  },
  {
   "cell_type": "markdown",
   "id": "39774914-7311-4a68-9916-77ddbfa0517a",
   "metadata": {},
   "source": [
    "# Exercise 6.04: What is the state ψ?"
   ]
  },
  {
   "cell_type": "code",
   "execution_count": 3,
   "id": "56a34f83-f741-42e0-8d22-b3c05b0e4450",
   "metadata": {},
   "outputs": [
    {
     "name": "stdout",
     "output_type": "stream",
     "text": [
      "Notación de Ket (Visual):\n",
      "0.7071067811865475: .3f|10 + 0.7071067811865475: .3f|01\n",
      "\n",
      "Notación de Ket (Qiskit):\n",
      "0.7071067811865475: .3f|01 + 0.7071067811865475: .3f|10\n",
      "\n",
      "Estado de ψ:\n",
      "|00>: 0j\n",
      "|10>: (0.7071067811865475+0j)\n",
      "|01>: (0.7071067811865475+0j)\n",
      "|11>: 0j\n"
     ]
    },
    {
     "data": {
      "image/png": "[encoded data removed]",
      "text/plain": [
       "<Figure size 370.906x200.667 with 1 Axes>"
      ]
     },
     "execution_count": 3,
     "metadata": {},
     "output_type": "execute_result"
    }
   ],
   "source": [
    "from qiskit import QuantumCircuit\n",
    "from qiskit.quantum_info import Statevector\n",
    "from functions import ket_expression\n",
    "\n",
    "qc = QuantumCircuit(2)\n",
    "\n",
    "qc.h(0)\n",
    "\n",
    "qc.cx(0, 1)\n",
    "\n",
    "qc.x(1)\n",
    "\n",
    "state = Statevector.from_instruction(qc)\n",
    "\n",
    "print(\"Notación de Ket (Visual):\")\n",
    "print(ket_expression(state, qubit_order='visual'))\n",
    "print(\"\\nNotación de Ket (Qiskit):\")\n",
    "print(ket_expression(state, qubit_order='qiskit'))\n",
    "\n",
    "print(\"\\nEstado de \\u03C8:\")\n",
    "for i, amp in enumerate(state.data):\n",
    "    binary = format(i, f'0{qc.num_qubits}b')[::-1]\n",
    "    print(f\"|{binary}>: {amp}\")\n",
    "\n",
    "qc.draw(\"mpl\")"
   ]
  },
  {
   "cell_type": "markdown",
   "id": "dc731b54-9581-4ecc-a164-0f32ecd97787",
   "metadata": {},
   "source": [
    "# Exercise 6.07: What is the state ψ?"
   ]
  },
  {
   "cell_type": "code",
   "execution_count": 4,
   "id": "d30ce092-119c-43bc-9269-d20c29ddb5f2",
   "metadata": {},
   "outputs": [
    {
     "name": "stdout",
     "output_type": "stream",
     "text": [
      "Notación de Ket (Visual):\n",
      "1.0: .3f|010\n",
      "\n",
      "Notación de Ket (Qiskit):\n",
      "1.0: .3f|010\n",
      "\n",
      "Estado de ψ:\n",
      "|000>: 0j\n",
      "|100>: 0j\n",
      "|010>: (1+0j)\n",
      "|110>: 0j\n",
      "|001>: 0j\n",
      "|101>: 0j\n",
      "|011>: 0j\n",
      "|111>: 0j\n"
     ]
    },
    {
     "data": {
      "image/png": "[encoded data removed]",
      "text/plain": [
       "<Figure size 287.496x284.278 with 1 Axes>"
      ]
     },
     "execution_count": 4,
     "metadata": {},
     "output_type": "execute_result"
    }
   ],
   "source": [
    "from qiskit import QuantumCircuit\n",
    "from qiskit.quantum_info import Statevector\n",
    "from functions import ket_expression\n",
    "\n",
    "qc = QuantumCircuit(3)\n",
    "\n",
    "qc.z(0)\n",
    "\n",
    "qc.x(1)\n",
    "\n",
    "qc.ccx(0, 1, 2)\n",
    "\n",
    "state = Statevector.from_instruction(qc)\n",
    "\n",
    "print(\"Notación de Ket (Visual):\")\n",
    "print(ket_expression(state, qubit_order='visual'))\n",
    "print(\"\\nNotación de Ket (Qiskit):\")\n",
    "print(ket_expression(state, qubit_order='qiskit'))\n",
    "\n",
    "print(\"\\nEstado de \\u03C8:\")\n",
    "for i, amp in enumerate(state.data):\n",
    "    binary = format(i, f'0{qc.num_qubits}b')[::-1]\n",
    "    print(f\"|{binary}>: {amp}\")\n",
    "\n",
    "qc.draw(\"mpl\")"
   ]
  },
  {
   "cell_type": "markdown",
   "id": "bb0f8484-fc6a-480a-8329-0a9eb4f474a7",
   "metadata": {},
   "source": [
    "# Exercise 6.03: What is the state ψ?"
   ]
  },
  {
   "cell_type": "code",
   "execution_count": 5,
   "id": "a8e0028a-eeea-43f4-8164-d0786f4d2f0f",
   "metadata": {},
   "outputs": [
    {
     "name": "stdout",
     "output_type": "stream",
     "text": [
      "Notación de Ket (Visual):\n",
      "0.7071067811865475: .3f|10 + 0.7071067811865475: .3f|01\n",
      "\n",
      "Notación de Ket (Qiskit):\n",
      "0.7071067811865475: .3f|01 + 0.7071067811865475: .3f|10\n",
      "\n",
      "Estado de ψ:\n",
      "|00>: 0j\n",
      "|10>: (0.7071067811865475+0j)\n",
      "|01>: (0.7071067811865475+0j)\n",
      "|11>: 0j\n"
     ]
    },
    {
     "data": {
      "image/png": "[encoded data removed]",
      "text/plain": [
       "<Figure size 370.906x200.667 with 1 Axes>"
      ]
     },
     "execution_count": 5,
     "metadata": {},
     "output_type": "execute_result"
    }
   ],
   "source": [
    "from qiskit import QuantumCircuit\n",
    "from qiskit.quantum_info import Statevector\n",
    "\n",
    "def ket_expression(statevector, qubit_order='visual'):\n",
    "    terms = []\n",
    "    num_qubits = int(statevector.num_qubits)\n",
    "\n",
    "    for i, amplitude in enumerate(statevector.data):\n",
    "        if abs(amplitude) > 1e-10:\n",
    "            bin_state = format(i, f'0{num_qubits}b')\n",
    "            if qubit_order == 'visual':\n",
    "                bin_state = bin_state[::-1]\n",
    "            amp_str = f\"{amplitude.real}: .3f\" if abs(amplitude.imag) < 1e-10 else f\"({amplitude: .3f})\"\n",
    "            terms.append(f\"{amp_str}|{bin_state}\")\n",
    "    return \" + \".join(terms)\n",
    "\n",
    "qc = QuantumCircuit(2)\n",
    "\n",
    "qc.h(0)\n",
    "\n",
    "qc.cx(0, 1)\n",
    "\n",
    "qc.x(0)\n",
    "\n",
    "state = Statevector.from_instruction(qc)\n",
    "\n",
    "print(\"Notación de Ket (Visual):\")\n",
    "print(ket_expression(state, qubit_order='visual'))\n",
    "print(\"\\nNotación de Ket (Qiskit):\")\n",
    "print(ket_expression(state, qubit_order='qiskit'))\n",
    "\n",
    "print(\"\\nEstado de \\u03C8:\")\n",
    "for i, amp in enumerate(state.data):\n",
    "    binary = format(i, f'0{qc.num_qubits}b')[::-1]\n",
    "    print(f\"|{binary}>: {amp}\")\n",
    "\n",
    "qc.draw(\"mpl\")"
   ]
  },
  {
   "cell_type": "markdown",
   "id": "6b6a7c15-cb4a-45d2-bac1-b82a3676653c",
   "metadata": {},
   "source": [
    "# Exercise 6.06: What is the state ψ?"
   ]
  },
  {
   "cell_type": "code",
   "execution_count": 6,
   "id": "7236cdaf-acaf-4173-b7dc-900666b82fe0",
   "metadata": {},
   "outputs": [
    {
     "name": "stdout",
     "output_type": "stream",
     "text": [
      "Notación de Ket (Visual):\n",
      "0.7071067811865475: .3f|00 + -0.7071067811865475: .3f|10\n",
      "\n",
      "Notación de Ket (Qiskit):\n",
      "0.7071067811865475: .3f|00 + -0.7071067811865475: .3f|01\n",
      "\n",
      "Estado de ψ:\n",
      "|00>: (0.7071067811865475+0j)\n",
      "|10>: (-0.7071067811865475+0j)\n",
      "|01>: 0j\n",
      "|11>: 0j\n"
     ]
    },
    {
     "data": {
      "image/png": "[encoded data removed]",
      "text/plain": [
       "<Figure size 370.906x200.667 with 1 Axes>"
      ]
     },
     "execution_count": 6,
     "metadata": {},
     "output_type": "execute_result"
    }
   ],
   "source": [
    "from qiskit import QuantumCircuit\n",
    "from qiskit.quantum_info import Statevector\n",
    "from functions import ket_expression\n",
    "\n",
    "qc = QuantumCircuit(2)\n",
    "\n",
    "qc.x(0)\n",
    "\n",
    "qc.cx(0, 1)\n",
    "\n",
    "qc.h(0)\n",
    "\n",
    "qc.x(1)\n",
    "\n",
    "state = Statevector.from_instruction(qc)\n",
    "\n",
    "print(\"Notación de Ket (Visual):\")\n",
    "print(ket_expression(state, qubit_order='visual'))\n",
    "print(\"\\nNotación de Ket (Qiskit):\")\n",
    "print(ket_expression(state, qubit_order='qiskit'))\n",
    "\n",
    "print(\"\\nEstado de \\u03C8:\")\n",
    "for i, amp in enumerate(state.data):\n",
    "    binary = format(i, f'0{qc.num_qubits}b')[::-1]\n",
    "    print(f\"|{binary}>: {amp}\")\n",
    "\n",
    "qc.draw(\"mpl\")"
   ]
  },
  {
   "cell_type": "markdown",
   "id": "add77791-1119-43d6-b1a1-1670a40ea13a",
   "metadata": {},
   "source": [
    "# Exercise 6.05: What is the state ψ?"
   ]
  },
  {
   "cell_type": "code",
   "execution_count": 7,
   "id": "f44494d8-4079-4dc3-8af1-7f60c425ff08",
   "metadata": {},
   "outputs": [
    {
     "name": "stdout",
     "output_type": "stream",
     "text": [
      "Notación de Ket (Visual):\n",
      "-0.9999999999999998: .3f|1\n",
      "\n",
      "Notación de Ket (Qiskit):\n",
      "-0.9999999999999998: .3f|1\n",
      "\n",
      "Estado de ψ:\n",
      "|0>: 0j\n",
      "|1>: (-0.9999999999999998+0j)\n"
     ]
    },
    {
     "data": {
      "image/png": "[encoded data removed]",
      "text/plain": [
       "<Figure size 436.286x117.056 with 1 Axes>"
      ]
     },
     "execution_count": 7,
     "metadata": {},
     "output_type": "execute_result"
    }
   ],
   "source": [
    "from qiskit import QuantumCircuit\n",
    "from qiskit.quantum_info import Statevector\n",
    "from functions import ket_expression\n",
    "\n",
    "qc = QuantumCircuit(1)\n",
    "\n",
    "qc.h(0)\n",
    "\n",
    "qc.h(0)\n",
    "\n",
    "qc.x(0)\n",
    "\n",
    "qc.z(0)\n",
    "\n",
    "state = Statevector.from_instruction(qc)\n",
    "\n",
    "print(\"Notación de Ket (Visual):\")\n",
    "print(ket_expression(state, qubit_order='visual'))\n",
    "print(\"\\nNotación de Ket (Qiskit):\")\n",
    "print(ket_expression(state, qubit_order='qiskit'))\n",
    "\n",
    "print(\"\\nEstado de \\u03C8:\")\n",
    "for i, amp in enumerate(state.data):\n",
    "    binary = format(i, f'0{qc.num_qubits}b')[::-1]\n",
    "    print(f\"|{binary}>: {amp}\")\n",
    "\n",
    "qc.draw(\"mpl\")"
   ]
  },
  {
   "cell_type": "markdown",
   "id": "0efca94d-ec03-4e31-9440-ec60023315a4",
   "metadata": {},
   "source": [
    "# Exercise 6.02: What is the state ψ?"
   ]
  },
  {
   "cell_type": "code",
   "execution_count": 8,
   "id": "169a6ee9-31b6-4720-868b-4276a1b89c88",
   "metadata": {},
   "outputs": [
    {
     "name": "stdout",
     "output_type": "stream",
     "text": [
      "Notación de Ket (Visual):\n",
      "0.7071067811865475: .3f|00 + 0.7071067811865475: .3f|11\n",
      "\n",
      "Notación de Ket (Qiskit):\n",
      "0.7071067811865475: .3f|00 + 0.7071067811865475: .3f|11\n",
      "\n",
      "Estado de ψ:\n",
      "|00>: (0.7071067811865475+0j)\n",
      "|10>: 0j\n",
      "|01>: 0j\n",
      "|11>: (0.7071067811865475+0j)\n"
     ]
    },
    {
     "data": {
      "image/png": "[encoded data removed]",
      "text/plain": [
       "<Figure size 287.294x200.667 with 1 Axes>"
      ]
     },
     "execution_count": 8,
     "metadata": {},
     "output_type": "execute_result"
    }
   ],
   "source": [
    "from qiskit import QuantumCircuit\n",
    "from qiskit.quantum_info import Statevector\n",
    "from functions import ket_expression\n",
    "\n",
    "qc = QuantumCircuit(2)\n",
    "\n",
    "qc.h(0)\n",
    "\n",
    "qc.cx(0, 1)\n",
    "\n",
    "state = Statevector.from_instruction(qc)\n",
    "\n",
    "print(\"Notación de Ket (Visual):\")\n",
    "print(ket_expression(state, qubit_order='visual'))\n",
    "print(\"\\nNotación de Ket (Qiskit):\")\n",
    "print(ket_expression(state, qubit_order='qiskit'))\n",
    "\n",
    "print(\"\\nEstado de \\u03C8:\")\n",
    "for i, amp in enumerate(state.data):\n",
    "    binary = format(i, f'0{qc.num_qubits}b')[::-1]\n",
    "    print(f\"|{binary}>: {amp}\")\n",
    "\n",
    "qc.draw(\"mpl\")"
   ]
  },
  {
   "cell_type": "markdown",
   "id": "d8422dab-ee30-4595-80b1-5426d71b8450",
   "metadata": {},
   "source": [
    "# Exercise 6.08: What is the state ψ?"
   ]
  },
  {
   "cell_type": "code",
   "execution_count": 9,
   "id": "44c45ce8-4554-4beb-a47a-be638a7a7bdb",
   "metadata": {},
   "outputs": [
    {
     "name": "stdout",
     "output_type": "stream",
     "text": [
      "Notación de Ket (Visual):\n",
      "0.7071067811865474: .3f|0 + -0.7071067811865474: .3f|1\n",
      "\n",
      "Notación de Ket (Qiskit):\n",
      "0.7071067811865474: .3f|0 + -0.7071067811865474: .3f|1\n",
      "\n",
      "Estado de ψ:\n",
      "|0>: (0.7071067811865474+0j)\n",
      "|1>: (-0.7071067811865474+0j)\n"
     ]
    },
    {
     "data": {
      "image/png": "[encoded data removed]",
      "text/plain": [
       "<Figure size 603.508x117.056 with 1 Axes>"
      ]
     },
     "execution_count": 9,
     "metadata": {},
     "output_type": "execute_result"
    }
   ],
   "source": [
    "from qiskit import QuantumCircuit\n",
    "from qiskit.quantum_info import Statevector\n",
    "from functions import ket_expression\n",
    "import math\n",
    "\n",
    "initial_state = [1/math.sqrt(2), 1/math.sqrt(2)]\n",
    "\n",
    "qc = QuantumCircuit(1)\n",
    "\n",
    "qc.initialize(initial_state, 0)\n",
    "\n",
    "qc.x(0)\n",
    "\n",
    "qc.h(0)\n",
    "\n",
    "qc.h(0)\n",
    "\n",
    "qc.z(0)\n",
    "\n",
    "state = Statevector.from_instruction(qc)\n",
    "\n",
    "print(\"Notación de Ket (Visual):\")\n",
    "print(ket_expression(state, qubit_order='visual'))\n",
    "print(\"\\nNotación de Ket (Qiskit):\")\n",
    "print(ket_expression(state, qubit_order='qiskit'))\n",
    "\n",
    "print(\"\\nEstado de \\u03C8:\")\n",
    "for i, amp in enumerate(state.data):\n",
    "    binary = format(i, f'0{qc.num_qubits}b')[::-1]\n",
    "    print(f\"|{binary}>: {amp}\")\n",
    "\n",
    "qc.draw(\"mpl\")"
   ]
  }
 ],
 "metadata": {
  "kernelspec": {
   "display_name": "Python 3 (ipykernel)",
   "language": "python",
   "name": "python3"
  },
  "language_info": {
   "codemirror_mode": {
    "name": "ipython",
    "version": 3
   },
   "file_extension": ".py",
   "mimetype": "text/x-python",
   "name": "python",
   "nbconvert_exporter": "python",
   "pygments_lexer": "ipython3",
   "version": "3.11.13"
  }
 },
 "nbformat": 4,
 "nbformat_minor": 5
}
