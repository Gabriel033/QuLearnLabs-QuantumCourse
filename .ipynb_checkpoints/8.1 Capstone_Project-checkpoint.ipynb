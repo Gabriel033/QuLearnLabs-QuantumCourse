{
 "cells": [
  {
   "cell_type": "markdown",
   "id": "5bf2d242-4dd3-47d6-8975-2538a4cf1d41",
   "metadata": {},
   "source": [
    "# Grover's Algorithm with 2 qubits"
   ]
  },
  {
   "cell_type": "markdown",
   "id": "f7faf1bb-7f44-4c35-9c7b-dc9663dfc476",
   "metadata": {},
   "source": [
    "# 7.4 Oracle"
   ]
  },
  {
   "cell_type": "code",
   "execution_count": 8,
   "id": "0f5facf3-340d-44f3-a028-2fb506095f37",
   "metadata": {},
   "outputs": [
    {
     "name": "stdout",
     "output_type": "stream",
     "text": [
      "State of quantum circuit: Statevector([ 0.5+0.j,  0.5+0.j,  0.5+0.j, -0.5+0.j],\n",
      "            dims=(2, 2))\n"
     ]
    },
    {
     "data": {
      "image/png": "[encoded data removed]",
      "text/plain": [
       "<Figure size 287.294x200.667 with 1 Axes>"
      ]
     },
     "execution_count": 8,
     "metadata": {},
     "output_type": "execute_result"
    }
   ],
   "source": [
    "from qiskit import QuantumCircuit\n",
    "from qiskit.quantum_info import Statevector\n",
    "\n",
    "qc = QuantumCircuit(2)\n",
    "\n",
    "qc.h(0)\n",
    "qc.h(1)\n",
    "\n",
    "# tag solution 11\n",
    "qc.cz(0, 1)\n",
    "\n",
    "state = Statevector(qc)\n",
    "print(\"State of quantum circuit:\", state)\n",
    "\n",
    "qc.draw(\"mpl\")"
   ]
  },
  {
   "cell_type": "code",
   "execution_count": 9,
   "id": "3283bfe5-682e-4180-8913-900de2e94688",
   "metadata": {},
   "outputs": [
    {
     "name": "stdout",
     "output_type": "stream",
     "text": [
      "State of quantum circuit: Statevector([ 0.5+0.j, -0.5+0.j,  0.5+0.j,  0.5+0.j],\n",
      "            dims=(2, 2))\n"
     ]
    },
    {
     "data": {
      "image/png": "[encoded data removed]",
      "text/plain": [
       "<Figure size 370.906x200.667 with 1 Axes>"
      ]
     },
     "execution_count": 9,
     "metadata": {},
     "output_type": "execute_result"
    }
   ],
   "source": [
    "from qiskit import QuantumCircuit\n",
    "from qiskit.quantum_info import Statevector\n",
    "\n",
    "qc = QuantumCircuit(2)\n",
    "\n",
    "qc.h(0)\n",
    "qc.h(1)\n",
    "\n",
    "# tag solution 01\n",
    "qc.cz(0, 1)\n",
    "qc.x(1)\n",
    "\n",
    "state = Statevector(qc)\n",
    "print(\"State of quantum circuit:\", state)\n",
    "\n",
    "qc.draw(\"mpl\")"
   ]
  },
  {
   "cell_type": "code",
   "execution_count": 11,
   "id": "fa5f9239-cbd9-4a4d-814e-d196e09235e5",
   "metadata": {},
   "outputs": [
    {
     "name": "stdout",
     "output_type": "stream",
     "text": [
      "State of quantum circuit: Statevector([ 0.5+0.j,  0.5+0.j, -0.5+0.j,  0.5+0.j],\n",
      "            dims=(2, 2))\n"
     ]
    },
    {
     "data": {
      "image/png": "[encoded data removed]",
      "text/plain": [
       "<Figure size 370.906x200.667 with 1 Axes>"
      ]
     },
     "execution_count": 11,
     "metadata": {},
     "output_type": "execute_result"
    }
   ],
   "source": [
    "from qiskit import QuantumCircuit\n",
    "from qiskit.quantum_info import Statevector\n",
    "\n",
    "qc = QuantumCircuit(2)\n",
    "\n",
    "qc.h(0)\n",
    "qc.h(1)\n",
    "\n",
    "# tag solution 10\n",
    "qc.cz(0, 1)\n",
    "qc.x(0)\n",
    "\n",
    "state = Statevector(qc)\n",
    "print(\"State of quantum circuit:\", state)\n",
    "\n",
    "qc.draw(\"mpl\")"
   ]
  },
  {
   "cell_type": "code",
   "execution_count": 12,
   "id": "065f1a21-1ce3-4a03-b3fd-efd8086774ac",
   "metadata": {},
   "outputs": [
    {
     "name": "stdout",
     "output_type": "stream",
     "text": [
      "State of quantum circuit: Statevector([-0.5+0.j,  0.5+0.j,  0.5+0.j,  0.5+0.j],\n",
      "            dims=(2, 2))\n"
     ]
    },
    {
     "data": {
      "image/png": "[encoded data removed]",
      "text/plain": [
       "<Figure size 370.906x200.667 with 1 Axes>"
      ]
     },
     "execution_count": 12,
     "metadata": {},
     "output_type": "execute_result"
    }
   ],
   "source": [
    "from qiskit import QuantumCircuit\n",
    "from qiskit.quantum_info import Statevector\n",
    "\n",
    "qc = QuantumCircuit(2)\n",
    "\n",
    "qc.h(0)\n",
    "qc.h(1)\n",
    "\n",
    "# tag solution 00\n",
    "qc.cz(0, 1)\n",
    "qc.x(0)\n",
    "qc.x(1)\n",
    "\n",
    "state = Statevector(qc)\n",
    "print(\"State of quantum circuit:\", state)\n",
    "\n",
    "qc.draw(\"mpl\")"
   ]
  },
  {
   "cell_type": "markdown",
   "id": "334b34a1-de14-4d5b-bb23-fc6f77aaa8cc",
   "metadata": {},
   "source": [
    "# 7.5 Grover diffusion"
   ]
  },
  {
   "cell_type": "code",
   "execution_count": 21,
   "id": "08e0570c-6045-40f6-9b4e-e29353164251",
   "metadata": {},
   "outputs": [
    {
     "name": "stdout",
     "output_type": "stream",
     "text": [
      "State of quantum circuit: Statevector([-1.26316153e-34+0.j, -2.36158002e-17+0.j, -9.52420783e-18+0.j,\n",
      "             -1.00000000e+00+0.j],\n",
      "            dims=(2, 2))\n"
     ]
    },
    {
     "data": {
      "image/png": "[encoded data removed]",
      "text/plain": [
       "<Figure size 705.35x200.667 with 1 Axes>"
      ]
     },
     "execution_count": 21,
     "metadata": {},
     "output_type": "execute_result"
    }
   ],
   "source": [
    "from qiskit import QuantumCircuit\n",
    "from qiskit.quantum_info import Statevector\n",
    "\n",
    "qc = QuantumCircuit(2)\n",
    "\n",
    "qc.h(0)\n",
    "qc.h(1)\n",
    "\n",
    "qc.cz(0, 1) # Esto nos da la solución 11\n",
    "\n",
    "qc.h(0)\n",
    "qc.h(1)\n",
    "\n",
    "qc.x(0)\n",
    "qc.x(1)\n",
    "\n",
    "qc.cz(0, 1)\n",
    "\n",
    "qc.x(0)\n",
    "qc.x(1)\n",
    "\n",
    "qc.h(0)\n",
    "qc.h(1)\n",
    "\n",
    "state = Statevector(qc)\n",
    "print(\"State of quantum circuit:\", state)\n",
    "\n",
    "qc.draw(\"mpl\")"
   ]
  },
  {
   "cell_type": "markdown",
   "id": "085ffb86-3810-43fc-960c-255e5f6face2",
   "metadata": {},
   "source": [
    "# 7.6 Measurement"
   ]
  },
  {
   "cell_type": "code",
   "execution_count": 22,
   "id": "046c9ccd-1126-4c60-837c-0020f7dd0c47",
   "metadata": {},
   "outputs": [
    {
     "name": "stdout",
     "output_type": "stream",
     "text": [
      "['11']\n"
     ]
    },
    {
     "data": {
      "image/png": "[encoded data removed]",
      "text/plain": [
       "<Figure size 998.442x284.278 with 1 Axes>"
      ]
     },
     "execution_count": 22,
     "metadata": {},
     "output_type": "execute_result"
    }
   ],
   "source": [
    "from qiskit import QuantumCircuit\n",
    "from qiskit.primitives import StatevectorSampler\n",
    "\n",
    "qc = QuantumCircuit(2)\n",
    "\n",
    "qc.h(0)\n",
    "qc.h(1)\n",
    "\n",
    "qc.cz(0, 1)\n",
    "\n",
    "qc.h(0)\n",
    "qc.h(1)\n",
    "\n",
    "qc.x(0)\n",
    "qc.x(1)\n",
    "\n",
    "qc.cz(0, 1)\n",
    "\n",
    "qc.x(0)\n",
    "qc.x(1)\n",
    "\n",
    "qc.h(0)\n",
    "qc.h(1)\n",
    "\n",
    "qc.measure_all()\n",
    "\n",
    "sampler = StatevectorSampler()\n",
    "\n",
    "job = sampler.run([qc], shots=1)\n",
    "\n",
    "result = job.result()[0]\n",
    "\n",
    "state = result.data.meas.get_bitstrings()\n",
    "\n",
    "print(state)\n",
    "\n",
    "qc.draw(\"mpl\")"
   ]
  },
  {
   "cell_type": "code",
   "execution_count": 23,
   "id": "2c308cbd-5a01-4197-8c8e-cfe1af6ed874",
   "metadata": {},
   "outputs": [
    {
     "name": "stdout",
     "output_type": "stream",
     "text": [
      "['01']\n"
     ]
    },
    {
     "data": {
      "image/png": "[encoded data removed]",
      "text/plain": [
       "<Figure size 1082.05x284.278 with 1 Axes>"
      ]
     },
     "execution_count": 23,
     "metadata": {},
     "output_type": "execute_result"
    }
   ],
   "source": [
    "from qiskit import QuantumCircuit\n",
    "from qiskit.primitives import StatevectorSampler\n",
    "\n",
    "qc = QuantumCircuit(2)\n",
    "\n",
    "qc.h(0)\n",
    "qc.h(1)\n",
    "\n",
    "qc.cz(0, 1)\n",
    "qc.x(1) # Esto nos da la solución 01\n",
    "\n",
    "qc.h(0)\n",
    "qc.h(1)\n",
    "\n",
    "qc.x(0)\n",
    "qc.x(1)\n",
    "\n",
    "qc.cz(0, 1)\n",
    "\n",
    "qc.x(0)\n",
    "qc.x(1)\n",
    "\n",
    "qc.h(0)\n",
    "qc.h(1)\n",
    "\n",
    "qc.measure_all()\n",
    "\n",
    "sampler = StatevectorSampler()\n",
    "\n",
    "job = sampler.run([qc], shots=1)\n",
    "\n",
    "result = job.result()[0]\n",
    "\n",
    "state = result.data.meas.get_bitstrings()\n",
    "\n",
    "print(state)\n",
    "\n",
    "qc.draw(\"mpl\")"
   ]
  },
  {
   "cell_type": "code",
   "execution_count": 24,
   "id": "2957ff3a-fd99-4026-85fa-38b6b6bfa998",
   "metadata": {},
   "outputs": [
    {
     "name": "stdout",
     "output_type": "stream",
     "text": [
      "['10']\n"
     ]
    },
    {
     "data": {
      "image/png": "[encoded data removed]",
      "text/plain": [
       "<Figure size 1082.05x284.278 with 1 Axes>"
      ]
     },
     "execution_count": 24,
     "metadata": {},
     "output_type": "execute_result"
    }
   ],
   "source": [
    "from qiskit import QuantumCircuit\n",
    "from qiskit.primitives import StatevectorSampler\n",
    "\n",
    "qc = QuantumCircuit(2)\n",
    "\n",
    "qc.h(0)\n",
    "qc.h(1)\n",
    "\n",
    "qc.cz(0, 1)\n",
    "qc.x(0) # Esto nos da la solución 10\n",
    "\n",
    "qc.h(0)\n",
    "qc.h(1)\n",
    "\n",
    "qc.x(0)\n",
    "qc.x(1)\n",
    "\n",
    "qc.cz(0, 1)\n",
    "\n",
    "qc.x(0)\n",
    "qc.x(1)\n",
    "\n",
    "qc.h(0)\n",
    "qc.h(1)\n",
    "\n",
    "qc.measure_all()\n",
    "\n",
    "sampler = StatevectorSampler()\n",
    "\n",
    "job = sampler.run([qc], shots=1)\n",
    "\n",
    "result = job.result()[0]\n",
    "\n",
    "state = result.data.meas.get_bitstrings()\n",
    "\n",
    "print(state)\n",
    "\n",
    "qc.draw(\"mpl\")"
   ]
  },
  {
   "cell_type": "code",
   "execution_count": 25,
   "id": "63a066e3-b2c0-4b99-9a27-46636630fb53",
   "metadata": {},
   "outputs": [
    {
     "name": "stdout",
     "output_type": "stream",
     "text": [
      "['00']\n"
     ]
    },
    {
     "data": {
      "image/png": "[encoded data removed]",
      "text/plain": [
       "<Figure size 1082.05x284.278 with 1 Axes>"
      ]
     },
     "execution_count": 25,
     "metadata": {},
     "output_type": "execute_result"
    }
   ],
   "source": [
    "from qiskit import QuantumCircuit\n",
    "from qiskit.primitives import StatevectorSampler\n",
    "\n",
    "qc = QuantumCircuit(2)\n",
    "\n",
    "qc.h(0)\n",
    "qc.h(1)\n",
    "\n",
    "qc.cz(0, 1)\n",
    "qc.x(0) # Esto nos da la solución 00\n",
    "qc.x(1) # Esto nos da la solución 00\n",
    "\n",
    "qc.h(0)\n",
    "qc.h(1)\n",
    "\n",
    "qc.x(0)\n",
    "qc.x(1)\n",
    "\n",
    "qc.cz(0, 1)\n",
    "\n",
    "qc.x(0)\n",
    "qc.x(1)\n",
    "\n",
    "qc.h(0)\n",
    "qc.h(1)\n",
    "\n",
    "qc.measure_all()\n",
    "\n",
    "sampler = StatevectorSampler()\n",
    "\n",
    "job = sampler.run([qc], shots=1)\n",
    "\n",
    "result = job.result()[0]\n",
    "\n",
    "state = result.data.meas.get_bitstrings()\n",
    "\n",
    "print(state)\n",
    "\n",
    "qc.draw(\"mpl\")"
   ]
  },
  {
   "cell_type": "code",
   "execution_count": null,
   "id": "ccd09519-e34b-41c3-b227-d04f32057b6d",
   "metadata": {},
   "outputs": [],
   "source": []
  }
 ],
 "metadata": {
  "kernelspec": {
   "display_name": "Python 3 (ipykernel)",
   "language": "python",
   "name": "python3"
  },
  "language_info": {
   "codemirror_mode": {
    "name": "ipython",
    "version": 3
   },
   "file_extension": ".py",
   "mimetype": "text/x-python",
   "name": "python",
   "nbconvert_exporter": "python",
   "pygments_lexer": "ipython3",
   "version": "3.11.13"
  }
 },
 "nbformat": 4,
 "nbformat_minor": 5
}
